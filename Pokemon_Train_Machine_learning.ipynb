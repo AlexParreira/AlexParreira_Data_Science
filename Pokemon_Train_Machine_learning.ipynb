{
  "nbformat": 4,
  "nbformat_minor": 0,
  "metadata": {
    "colab": {
      "name": "Pokemon Train Machine learning.ipynb",
      "provenance": [],
      "authorship_tag": "ABX9TyPz8jl+TXz5nnlX0sm1ARC1",
      "include_colab_link": true
    },
    "kernelspec": {
      "name": "python3",
      "display_name": "Python 3"
    }
  },
  "cells": [
    {
      "cell_type": "markdown",
      "metadata": {
        "id": "view-in-github",
        "colab_type": "text"
      },
      "source": [
        "<a href=\"https://colab.research.google.com/github/AlexParreira/AlexParreira_Data_Science/blob/master/Pokemon_Train_Machine_learning.ipynb\" target=\"_parent\"><img src=\"https://colab.research.google.com/assets/colab-badge.svg\" alt=\"Open In Colab\"/></a>"
      ]
    },
    {
      "cell_type": "markdown",
      "metadata": {
        "id": "N0_moz_yHIXQ",
        "colab_type": "text"
      },
      "source": [
        "# Pokemon\n"
      ]
    },
    {
      "cell_type": "markdown",
      "metadata": {
        "id": "BC42Lh7DHOAU",
        "colab_type": "text"
      },
      "source": [
        "<sup>Origem: Wikipédia, a enciclopédia livre</sup>\n",
        "<br>\n",
        "Pokémon é uma série de jogos eletrônicos desenvolvidos pela Game Freak e publicados pela Nintendo como parte da franquia de mídia Pokémon. Lançado pela primeira vez em 1996 no Japão para o console Game Boy, a principal série de jogos de RPGs, que continuou em cada geração em portáteis da Nintendo."
      ]
    },
    {
      "cell_type": "markdown",
      "metadata": {
        "id": "F1GeNTpEIpmV",
        "colab_type": "text"
      },
      "source": [
        "# Os Dados\n"
      ]
    },
    {
      "cell_type": "markdown",
      "metadata": {
        "id": "iabnRaiVIuK0",
        "colab_type": "text"
      },
      "source": [
        "O conjunto de dados contém 13 atributos com 800 amostras.\n",
        "<br>\n",
        "<sub><a href='https://www.kaggle.com/abcsds/pokemon>'>Fonte do csv</a>\n",
        "<br>\n",
        "\n",
        "Número do índice PokeDex\n",
        "Nome\n",
        "Tipo 1 - Tipo de pokemon\n",
        "Tipo 2 - Tipo secundário de pokemon\n",
        "HP - Pontos de vida\n",
        "Ataque - Ponto de ataque\n",
        "Defesa - ponto de defesa\n",
        "Sp. Atk - Ponto de ataque especial\n",
        "Sp. Def - ponto defensivo especial\n",
        "Rapidez\n",
        "Total - Soma do Ataque, Sp. Atk, Defesa, Sp. Def, Velocidade e HP\n",
        "Geração\n",
        "Lendário - Se o pokemon é lendário ou não"
      ]
    },
    {
      "cell_type": "markdown",
      "metadata": {
        "id": "QUvwvUq9NJjC",
        "colab_type": "text"
      },
      "source": [
        "# Pré processamento"
      ]
    },
    {
      "cell_type": "code",
      "metadata": {
        "id": "CuFHq5xuNIbD",
        "colab_type": "code",
        "colab": {
          "base_uri": "https://localhost:8080/",
          "height": 34
        },
        "outputId": "07416256-9924-4194-a766-36ad76e479bd"
      },
      "source": [
        "# montando um drive no Colab\n",
        "from google.colab import drive\n",
        "\n",
        "drive.mount('/content/drive')"
      ],
      "execution_count": 371,
      "outputs": [
        {
          "output_type": "stream",
          "text": [
            "Drive already mounted at /content/drive; to attempt to forcibly remount, call drive.mount(\"/content/drive\", force_remount=True).\n"
          ],
          "name": "stdout"
        }
      ]
    },
    {
      "cell_type": "code",
      "metadata": {
        "id": "OmMxjntXPZrZ",
        "colab_type": "code",
        "colab": {}
      },
      "source": [
        "# Importando os pacotes necessários\n",
        "import pandas as pd\n",
        "import numpy as np\n",
        "import matplotlib.pyplot as plt\n",
        "import seaborn as sns\n",
        "\n",
        "# Permite a visualização de todas as colunas\n",
        "pd.options.display.max_columns = None\n",
        "\n",
        "# Renderiza os gráficos direto no notebook\n",
        "%matplotlib inline"
      ],
      "execution_count": 0,
      "outputs": []
    },
    {
      "cell_type": "code",
      "metadata": {
        "id": "O5s0GXArPBBx",
        "colab_type": "code",
        "colab": {
          "base_uri": "https://localhost:8080/",
          "height": 197
        },
        "outputId": "87b6a71d-747a-4787-ed73-e8871b169e52"
      },
      "source": [
        "df = pd.read_csv('/content/drive/My Drive/data/Pokemon/Pokemon.csv')\n",
        "\n",
        "df.head()"
      ],
      "execution_count": 373,
      "outputs": [
        {
          "output_type": "execute_result",
          "data": {
            "text/html": [
              "<div>\n",
              "<style scoped>\n",
              "    .dataframe tbody tr th:only-of-type {\n",
              "        vertical-align: middle;\n",
              "    }\n",
              "\n",
              "    .dataframe tbody tr th {\n",
              "        vertical-align: top;\n",
              "    }\n",
              "\n",
              "    .dataframe thead th {\n",
              "        text-align: right;\n",
              "    }\n",
              "</style>\n",
              "<table border=\"1\" class=\"dataframe\">\n",
              "  <thead>\n",
              "    <tr style=\"text-align: right;\">\n",
              "      <th></th>\n",
              "      <th>#</th>\n",
              "      <th>Name</th>\n",
              "      <th>Type 1</th>\n",
              "      <th>Type 2</th>\n",
              "      <th>Total</th>\n",
              "      <th>HP</th>\n",
              "      <th>Attack</th>\n",
              "      <th>Defense</th>\n",
              "      <th>Sp. Atk</th>\n",
              "      <th>Sp. Def</th>\n",
              "      <th>Speed</th>\n",
              "      <th>Generation</th>\n",
              "      <th>Legendary</th>\n",
              "    </tr>\n",
              "  </thead>\n",
              "  <tbody>\n",
              "    <tr>\n",
              "      <th>0</th>\n",
              "      <td>1</td>\n",
              "      <td>Bulbasaur</td>\n",
              "      <td>Grass</td>\n",
              "      <td>Poison</td>\n",
              "      <td>318</td>\n",
              "      <td>45</td>\n",
              "      <td>49</td>\n",
              "      <td>49</td>\n",
              "      <td>65</td>\n",
              "      <td>65</td>\n",
              "      <td>45</td>\n",
              "      <td>1</td>\n",
              "      <td>False</td>\n",
              "    </tr>\n",
              "    <tr>\n",
              "      <th>1</th>\n",
              "      <td>2</td>\n",
              "      <td>Ivysaur</td>\n",
              "      <td>Grass</td>\n",
              "      <td>Poison</td>\n",
              "      <td>405</td>\n",
              "      <td>60</td>\n",
              "      <td>62</td>\n",
              "      <td>63</td>\n",
              "      <td>80</td>\n",
              "      <td>80</td>\n",
              "      <td>60</td>\n",
              "      <td>1</td>\n",
              "      <td>False</td>\n",
              "    </tr>\n",
              "    <tr>\n",
              "      <th>2</th>\n",
              "      <td>3</td>\n",
              "      <td>Venusaur</td>\n",
              "      <td>Grass</td>\n",
              "      <td>Poison</td>\n",
              "      <td>525</td>\n",
              "      <td>80</td>\n",
              "      <td>82</td>\n",
              "      <td>83</td>\n",
              "      <td>100</td>\n",
              "      <td>100</td>\n",
              "      <td>80</td>\n",
              "      <td>1</td>\n",
              "      <td>False</td>\n",
              "    </tr>\n",
              "    <tr>\n",
              "      <th>3</th>\n",
              "      <td>3</td>\n",
              "      <td>VenusaurMega Venusaur</td>\n",
              "      <td>Grass</td>\n",
              "      <td>Poison</td>\n",
              "      <td>625</td>\n",
              "      <td>80</td>\n",
              "      <td>100</td>\n",
              "      <td>123</td>\n",
              "      <td>122</td>\n",
              "      <td>120</td>\n",
              "      <td>80</td>\n",
              "      <td>1</td>\n",
              "      <td>False</td>\n",
              "    </tr>\n",
              "    <tr>\n",
              "      <th>4</th>\n",
              "      <td>4</td>\n",
              "      <td>Charmander</td>\n",
              "      <td>Fire</td>\n",
              "      <td>NaN</td>\n",
              "      <td>309</td>\n",
              "      <td>39</td>\n",
              "      <td>52</td>\n",
              "      <td>43</td>\n",
              "      <td>60</td>\n",
              "      <td>50</td>\n",
              "      <td>65</td>\n",
              "      <td>1</td>\n",
              "      <td>False</td>\n",
              "    </tr>\n",
              "  </tbody>\n",
              "</table>\n",
              "</div>"
            ],
            "text/plain": [
              "   #                   Name Type 1  Type 2  Total  HP  Attack  Defense  \\\n",
              "0  1              Bulbasaur  Grass  Poison    318  45      49       49   \n",
              "1  2                Ivysaur  Grass  Poison    405  60      62       63   \n",
              "2  3               Venusaur  Grass  Poison    525  80      82       83   \n",
              "3  3  VenusaurMega Venusaur  Grass  Poison    625  80     100      123   \n",
              "4  4             Charmander   Fire     NaN    309  39      52       43   \n",
              "\n",
              "   Sp. Atk  Sp. Def  Speed  Generation  Legendary  \n",
              "0       65       65     45           1      False  \n",
              "1       80       80     60           1      False  \n",
              "2      100      100     80           1      False  \n",
              "3      122      120     80           1      False  \n",
              "4       60       50     65           1      False  "
            ]
          },
          "metadata": {
            "tags": []
          },
          "execution_count": 373
        }
      ]
    },
    {
      "cell_type": "code",
      "metadata": {
        "id": "uC1J2QZPPkY3",
        "colab_type": "code",
        "colab": {
          "base_uri": "https://localhost:8080/",
          "height": 52
        },
        "outputId": "eef8d36c-c547-4694-d5f6-d6945245df3f"
      },
      "source": [
        "# Verifica as Dimensões do DataFrame\n",
        "print('Variáveis:\\t{}\\nEntradas:\\t{}'.format(df.shape[1], df.shape[0]))"
      ],
      "execution_count": 374,
      "outputs": [
        {
          "output_type": "stream",
          "text": [
            "Variáveis:\t13\n",
            "Entradas:\t800\n"
          ],
          "name": "stdout"
        }
      ]
    },
    {
      "cell_type": "markdown",
      "metadata": {
        "id": "78V68rFdS9dC",
        "colab_type": "text"
      },
      "source": [
        "O conjunto de dados contém 13 atributos com 800 amostras e o meu objetivo será descobrir se um determinado pokemon é lendário ou não."
      ]
    },
    {
      "cell_type": "code",
      "metadata": {
        "id": "xUX_1MVNQEJ4",
        "colab_type": "code",
        "colab": {
          "base_uri": "https://localhost:8080/",
          "height": 265
        },
        "outputId": "31535cac-ea50-4909-81aa-67321df88e86"
      },
      "source": [
        "print(df.apply(lambda x: x.count()))"
      ],
      "execution_count": 375,
      "outputs": [
        {
          "output_type": "stream",
          "text": [
            "#             800\n",
            "Name          800\n",
            "Type 1        800\n",
            "Type 2        414\n",
            "Total         800\n",
            "HP            800\n",
            "Attack        800\n",
            "Defense       800\n",
            "Sp. Atk       800\n",
            "Sp. Def       800\n",
            "Speed         800\n",
            "Generation    800\n",
            "Legendary     800\n",
            "dtype: int64\n"
          ],
          "name": "stdout"
        }
      ]
    },
    {
      "cell_type": "markdown",
      "metadata": {
        "id": "DNVtAhVTQfgj",
        "colab_type": "text"
      },
      "source": [
        "O Type 2 e a unica coluna faltante pois nem todos pokemons possuem 2 tipos por tando, repetirei seu tipo primario para o tipo 2."
      ]
    },
    {
      "cell_type": "code",
      "metadata": {
        "id": "EzQ0ds03SOYK",
        "colab_type": "code",
        "colab": {}
      },
      "source": [
        "df['Type 2'].fillna(df['Type 1'], inplace = True)"
      ],
      "execution_count": 0,
      "outputs": []
    },
    {
      "cell_type": "code",
      "metadata": {
        "id": "GMOmQbNfVZz3",
        "colab_type": "code",
        "colab": {
          "base_uri": "https://localhost:8080/",
          "height": 265
        },
        "outputId": "07f73b55-1b7d-4edf-d318-5bf53a43a080"
      },
      "source": [
        "# Ver a porcentagem valores faltantes\n",
        "(df.isnull().sum()/df.shape[0]).sort_values(ascending=False)"
      ],
      "execution_count": 377,
      "outputs": [
        {
          "output_type": "execute_result",
          "data": {
            "text/plain": [
              "Legendary     0.0\n",
              "Generation    0.0\n",
              "Speed         0.0\n",
              "Sp. Def       0.0\n",
              "Sp. Atk       0.0\n",
              "Defense       0.0\n",
              "Attack        0.0\n",
              "HP            0.0\n",
              "Total         0.0\n",
              "Type 2        0.0\n",
              "Type 1        0.0\n",
              "Name          0.0\n",
              "#             0.0\n",
              "dtype: float64"
            ]
          },
          "metadata": {
            "tags": []
          },
          "execution_count": 377
        }
      ]
    },
    {
      "cell_type": "code",
      "metadata": {
        "id": "rPypJwyHQQiQ",
        "colab_type": "code",
        "colab": {
          "base_uri": "https://localhost:8080/",
          "height": 446
        },
        "outputId": "9bbf81c3-c1f5-42a4-af42-fc5fb238e008"
      },
      "source": [
        "display(df.dtypes)\n",
        "display(df.head())"
      ],
      "execution_count": 378,
      "outputs": [
        {
          "output_type": "display_data",
          "data": {
            "text/plain": [
              "#              int64\n",
              "Name          object\n",
              "Type 1        object\n",
              "Type 2        object\n",
              "Total          int64\n",
              "HP             int64\n",
              "Attack         int64\n",
              "Defense        int64\n",
              "Sp. Atk        int64\n",
              "Sp. Def        int64\n",
              "Speed          int64\n",
              "Generation     int64\n",
              "Legendary       bool\n",
              "dtype: object"
            ]
          },
          "metadata": {
            "tags": []
          }
        },
        {
          "output_type": "display_data",
          "data": {
            "text/html": [
              "<div>\n",
              "<style scoped>\n",
              "    .dataframe tbody tr th:only-of-type {\n",
              "        vertical-align: middle;\n",
              "    }\n",
              "\n",
              "    .dataframe tbody tr th {\n",
              "        vertical-align: top;\n",
              "    }\n",
              "\n",
              "    .dataframe thead th {\n",
              "        text-align: right;\n",
              "    }\n",
              "</style>\n",
              "<table border=\"1\" class=\"dataframe\">\n",
              "  <thead>\n",
              "    <tr style=\"text-align: right;\">\n",
              "      <th></th>\n",
              "      <th>#</th>\n",
              "      <th>Name</th>\n",
              "      <th>Type 1</th>\n",
              "      <th>Type 2</th>\n",
              "      <th>Total</th>\n",
              "      <th>HP</th>\n",
              "      <th>Attack</th>\n",
              "      <th>Defense</th>\n",
              "      <th>Sp. Atk</th>\n",
              "      <th>Sp. Def</th>\n",
              "      <th>Speed</th>\n",
              "      <th>Generation</th>\n",
              "      <th>Legendary</th>\n",
              "    </tr>\n",
              "  </thead>\n",
              "  <tbody>\n",
              "    <tr>\n",
              "      <th>0</th>\n",
              "      <td>1</td>\n",
              "      <td>Bulbasaur</td>\n",
              "      <td>Grass</td>\n",
              "      <td>Poison</td>\n",
              "      <td>318</td>\n",
              "      <td>45</td>\n",
              "      <td>49</td>\n",
              "      <td>49</td>\n",
              "      <td>65</td>\n",
              "      <td>65</td>\n",
              "      <td>45</td>\n",
              "      <td>1</td>\n",
              "      <td>False</td>\n",
              "    </tr>\n",
              "    <tr>\n",
              "      <th>1</th>\n",
              "      <td>2</td>\n",
              "      <td>Ivysaur</td>\n",
              "      <td>Grass</td>\n",
              "      <td>Poison</td>\n",
              "      <td>405</td>\n",
              "      <td>60</td>\n",
              "      <td>62</td>\n",
              "      <td>63</td>\n",
              "      <td>80</td>\n",
              "      <td>80</td>\n",
              "      <td>60</td>\n",
              "      <td>1</td>\n",
              "      <td>False</td>\n",
              "    </tr>\n",
              "    <tr>\n",
              "      <th>2</th>\n",
              "      <td>3</td>\n",
              "      <td>Venusaur</td>\n",
              "      <td>Grass</td>\n",
              "      <td>Poison</td>\n",
              "      <td>525</td>\n",
              "      <td>80</td>\n",
              "      <td>82</td>\n",
              "      <td>83</td>\n",
              "      <td>100</td>\n",
              "      <td>100</td>\n",
              "      <td>80</td>\n",
              "      <td>1</td>\n",
              "      <td>False</td>\n",
              "    </tr>\n",
              "    <tr>\n",
              "      <th>3</th>\n",
              "      <td>3</td>\n",
              "      <td>VenusaurMega Venusaur</td>\n",
              "      <td>Grass</td>\n",
              "      <td>Poison</td>\n",
              "      <td>625</td>\n",
              "      <td>80</td>\n",
              "      <td>100</td>\n",
              "      <td>123</td>\n",
              "      <td>122</td>\n",
              "      <td>120</td>\n",
              "      <td>80</td>\n",
              "      <td>1</td>\n",
              "      <td>False</td>\n",
              "    </tr>\n",
              "    <tr>\n",
              "      <th>4</th>\n",
              "      <td>4</td>\n",
              "      <td>Charmander</td>\n",
              "      <td>Fire</td>\n",
              "      <td>Fire</td>\n",
              "      <td>309</td>\n",
              "      <td>39</td>\n",
              "      <td>52</td>\n",
              "      <td>43</td>\n",
              "      <td>60</td>\n",
              "      <td>50</td>\n",
              "      <td>65</td>\n",
              "      <td>1</td>\n",
              "      <td>False</td>\n",
              "    </tr>\n",
              "  </tbody>\n",
              "</table>\n",
              "</div>"
            ],
            "text/plain": [
              "   #                   Name Type 1  Type 2  Total  HP  Attack  Defense  \\\n",
              "0  1              Bulbasaur  Grass  Poison    318  45      49       49   \n",
              "1  2                Ivysaur  Grass  Poison    405  60      62       63   \n",
              "2  3               Venusaur  Grass  Poison    525  80      82       83   \n",
              "3  3  VenusaurMega Venusaur  Grass  Poison    625  80     100      123   \n",
              "4  4             Charmander   Fire    Fire    309  39      52       43   \n",
              "\n",
              "   Sp. Atk  Sp. Def  Speed  Generation  Legendary  \n",
              "0       65       65     45           1      False  \n",
              "1       80       80     60           1      False  \n",
              "2      100      100     80           1      False  \n",
              "3      122      120     80           1      False  \n",
              "4       60       50     65           1      False  "
            ]
          },
          "metadata": {
            "tags": []
          }
        }
      ]
    },
    {
      "cell_type": "code",
      "metadata": {
        "id": "HA56fcYrcLv8",
        "colab_type": "code",
        "colab": {}
      },
      "source": [
        "# A variável Name não e compativel com os teste\n",
        "df = df.drop(['Name'], axis = 1)"
      ],
      "execution_count": 0,
      "outputs": []
    },
    {
      "cell_type": "markdown",
      "metadata": {
        "id": "PIvHlNZXSQKB",
        "colab_type": "text"
      },
      "source": [
        "A variável Type 1 e Type 2 precisa ter seus valores convertidos para númericos."
      ]
    },
    {
      "cell_type": "code",
      "metadata": {
        "id": "oycIXvMbO1n5",
        "colab_type": "code",
        "colab": {
          "base_uri": "https://localhost:8080/",
          "height": 336
        },
        "outputId": "bce95c25-9d80-4c21-9a61-7f5769ddd22b"
      },
      "source": [
        "# criando valores únicos para o Type 1\n",
        "i = 0\n",
        "uniqueItem = dict()\n",
        "\n",
        "for item in df['Type 1']:\n",
        "  if item not in uniqueItem:\n",
        "    uniqueItem[str(item)] = i\n",
        "    i+=1\n",
        "uniqueItem"
      ],
      "execution_count": 380,
      "outputs": [
        {
          "output_type": "execute_result",
          "data": {
            "text/plain": [
              "{'Bug': 3,\n",
              " 'Dark': 15,\n",
              " 'Dragon': 14,\n",
              " 'Electric': 6,\n",
              " 'Fairy': 8,\n",
              " 'Fighting': 9,\n",
              " 'Fire': 1,\n",
              " 'Flying': 17,\n",
              " 'Ghost': 12,\n",
              " 'Grass': 0,\n",
              " 'Ground': 7,\n",
              " 'Ice': 13,\n",
              " 'Normal': 4,\n",
              " 'Poison': 5,\n",
              " 'Psychic': 10,\n",
              " 'Rock': 11,\n",
              " 'Steel': 16,\n",
              " 'Water': 2}"
            ]
          },
          "metadata": {
            "tags": []
          },
          "execution_count": 380
        }
      ]
    },
    {
      "cell_type": "markdown",
      "metadata": {
        "id": "bvTMwZnVSnpF",
        "colab_type": "text"
      },
      "source": [
        "18 tipos diferentes foram gerados."
      ]
    },
    {
      "cell_type": "code",
      "metadata": {
        "id": "_GhdCarFSkkO",
        "colab_type": "code",
        "colab": {}
      },
      "source": [
        "# inserindo o uniqueItem do DataFrame\n",
        "for type in df['Type 1']:\n",
        "  df = df.replace({type:uniqueItem.get(type)})"
      ],
      "execution_count": 0,
      "outputs": []
    },
    {
      "cell_type": "code",
      "metadata": {
        "id": "DZkm-ZqSTfJj",
        "colab_type": "code",
        "colab": {
          "base_uri": "https://localhost:8080/",
          "height": 197
        },
        "outputId": "233f3b90-9b16-44d7-eb85-bc774bbd1fae"
      },
      "source": [
        "df.head()"
      ],
      "execution_count": 382,
      "outputs": [
        {
          "output_type": "execute_result",
          "data": {
            "text/html": [
              "<div>\n",
              "<style scoped>\n",
              "    .dataframe tbody tr th:only-of-type {\n",
              "        vertical-align: middle;\n",
              "    }\n",
              "\n",
              "    .dataframe tbody tr th {\n",
              "        vertical-align: top;\n",
              "    }\n",
              "\n",
              "    .dataframe thead th {\n",
              "        text-align: right;\n",
              "    }\n",
              "</style>\n",
              "<table border=\"1\" class=\"dataframe\">\n",
              "  <thead>\n",
              "    <tr style=\"text-align: right;\">\n",
              "      <th></th>\n",
              "      <th>#</th>\n",
              "      <th>Type 1</th>\n",
              "      <th>Type 2</th>\n",
              "      <th>Total</th>\n",
              "      <th>HP</th>\n",
              "      <th>Attack</th>\n",
              "      <th>Defense</th>\n",
              "      <th>Sp. Atk</th>\n",
              "      <th>Sp. Def</th>\n",
              "      <th>Speed</th>\n",
              "      <th>Generation</th>\n",
              "      <th>Legendary</th>\n",
              "    </tr>\n",
              "  </thead>\n",
              "  <tbody>\n",
              "    <tr>\n",
              "      <th>0</th>\n",
              "      <td>1</td>\n",
              "      <td>0</td>\n",
              "      <td>5</td>\n",
              "      <td>318</td>\n",
              "      <td>45</td>\n",
              "      <td>49</td>\n",
              "      <td>49</td>\n",
              "      <td>65</td>\n",
              "      <td>65</td>\n",
              "      <td>45</td>\n",
              "      <td>1</td>\n",
              "      <td>False</td>\n",
              "    </tr>\n",
              "    <tr>\n",
              "      <th>1</th>\n",
              "      <td>2</td>\n",
              "      <td>0</td>\n",
              "      <td>5</td>\n",
              "      <td>405</td>\n",
              "      <td>60</td>\n",
              "      <td>62</td>\n",
              "      <td>63</td>\n",
              "      <td>80</td>\n",
              "      <td>80</td>\n",
              "      <td>60</td>\n",
              "      <td>1</td>\n",
              "      <td>False</td>\n",
              "    </tr>\n",
              "    <tr>\n",
              "      <th>2</th>\n",
              "      <td>3</td>\n",
              "      <td>0</td>\n",
              "      <td>5</td>\n",
              "      <td>525</td>\n",
              "      <td>80</td>\n",
              "      <td>82</td>\n",
              "      <td>83</td>\n",
              "      <td>100</td>\n",
              "      <td>100</td>\n",
              "      <td>80</td>\n",
              "      <td>1</td>\n",
              "      <td>False</td>\n",
              "    </tr>\n",
              "    <tr>\n",
              "      <th>3</th>\n",
              "      <td>3</td>\n",
              "      <td>0</td>\n",
              "      <td>5</td>\n",
              "      <td>625</td>\n",
              "      <td>80</td>\n",
              "      <td>100</td>\n",
              "      <td>123</td>\n",
              "      <td>122</td>\n",
              "      <td>120</td>\n",
              "      <td>80</td>\n",
              "      <td>1</td>\n",
              "      <td>False</td>\n",
              "    </tr>\n",
              "    <tr>\n",
              "      <th>4</th>\n",
              "      <td>4</td>\n",
              "      <td>1</td>\n",
              "      <td>1</td>\n",
              "      <td>309</td>\n",
              "      <td>39</td>\n",
              "      <td>52</td>\n",
              "      <td>43</td>\n",
              "      <td>60</td>\n",
              "      <td>50</td>\n",
              "      <td>65</td>\n",
              "      <td>1</td>\n",
              "      <td>False</td>\n",
              "    </tr>\n",
              "  </tbody>\n",
              "</table>\n",
              "</div>"
            ],
            "text/plain": [
              "   #  Type 1  Type 2  Total  HP  Attack  Defense  Sp. Atk  Sp. Def  Speed  \\\n",
              "0  1       0       5    318  45      49       49       65       65     45   \n",
              "1  2       0       5    405  60      62       63       80       80     60   \n",
              "2  3       0       5    525  80      82       83      100      100     80   \n",
              "3  3       0       5    625  80     100      123      122      120     80   \n",
              "4  4       1       1    309  39      52       43       60       50     65   \n",
              "\n",
              "   Generation  Legendary  \n",
              "0           1      False  \n",
              "1           1      False  \n",
              "2           1      False  \n",
              "3           1      False  \n",
              "4           1      False  "
            ]
          },
          "metadata": {
            "tags": []
          },
          "execution_count": 382
        }
      ]
    },
    {
      "cell_type": "code",
      "metadata": {
        "id": "Msiz5oFuLZgT",
        "colab_type": "code",
        "colab": {}
      },
      "source": [
        "# dividindo dados de teste e treino\n",
        "x = np.array(df.iloc[:,0:-1])\n",
        "y = np.array([[df['Legendary']]])"
      ],
      "execution_count": 0,
      "outputs": []
    },
    {
      "cell_type": "code",
      "metadata": {
        "id": "zBNmsTiQXXlB",
        "colab_type": "code",
        "colab": {}
      },
      "source": [
        "y = y.reshape(800)"
      ],
      "execution_count": 0,
      "outputs": []
    },
    {
      "cell_type": "markdown",
      "metadata": {
        "id": "LumaGLETKroe",
        "colab_type": "text"
      },
      "source": [
        "# Construindo modelo e avaliação"
      ]
    },
    {
      "cell_type": "code",
      "metadata": {
        "id": "5dvFlvDOKwBJ",
        "colab_type": "code",
        "colab": {}
      },
      "source": [
        "# importando as bibliotecas do modelo de Machine learning\n",
        "from sklearn.naive_bayes import GaussianNB\n",
        "from sklearn.metrics import accuracy_score\n",
        "from sklearn.model_selection import train_test_split\n",
        "from sklearn import linear_model"
      ],
      "execution_count": 0,
      "outputs": []
    },
    {
      "cell_type": "code",
      "metadata": {
        "id": "5ho_s668Kx42",
        "colab_type": "code",
        "colab": {
          "base_uri": "https://localhost:8080/",
          "height": 34
        },
        "outputId": "271baf07-8775-45e7-9172-5ef7b84a3bc9"
      },
      "source": [
        "#modelo Gaussian Naive Bayes\n",
        "\n",
        "X_train, X_test, y_train, y_test = train_test_split(\n",
        "x, y, test_size = 0.2, random_state = 10)\n",
        "\n",
        "model = GaussianNB()\n",
        "model.fit(X_train, y_train)\n"
      ],
      "execution_count": 386,
      "outputs": [
        {
          "output_type": "execute_result",
          "data": {
            "text/plain": [
              "GaussianNB(priors=None, var_smoothing=1e-09)"
            ]
          },
          "metadata": {
            "tags": []
          },
          "execution_count": 386
        }
      ]
    },
    {
      "cell_type": "code",
      "metadata": {
        "id": "3EsYi9efZBy7",
        "colab_type": "code",
        "colab": {
          "base_uri": "https://localhost:8080/",
          "height": 34
        },
        "outputId": "815a8e95-babf-4257-cbcb-55e0e415f54c"
      },
      "source": [
        "# Precisão do teste do modelo Gaussian Naive Bayes\n",
        "y_pred = model.predict(X_test)\n",
        "print(\"Accuracy score of NaiveBayes:\",accuracy_score(y_test,y_pred))"
      ],
      "execution_count": 387,
      "outputs": [
        {
          "output_type": "stream",
          "text": [
            "Accuracy score of NaiveBayes: 0.94375\n"
          ],
          "name": "stdout"
        }
      ]
    },
    {
      "cell_type": "code",
      "metadata": {
        "id": "_P6DsMm9dfKt",
        "colab_type": "code",
        "colab": {
          "base_uri": "https://localhost:8080/",
          "height": 34
        },
        "outputId": "fdb83bf5-6da9-47fe-81f5-f11e207124cd"
      },
      "source": [
        "# Precisão do teste SDG Classifier\n",
        "clf = linear_model.SGDClassifier()\n",
        "clf.fit(x, y)\n",
        "\n",
        "y_pred = clf.predict(X_test)\n",
        "print(\"Accuracy score of SDG: \",accuracy_score(y_test,y_pred))"
      ],
      "execution_count": 389,
      "outputs": [
        {
          "output_type": "stream",
          "text": [
            "Accuracy score of SDG:  0.8875\n"
          ],
          "name": "stdout"
        }
      ]
    },
    {
      "cell_type": "markdown",
      "metadata": {
        "id": "BpqigTaqeJbi",
        "colab_type": "text"
      },
      "source": [
        "# Conclusão\n"
      ]
    },
    {
      "cell_type": "markdown",
      "metadata": {
        "id": "GT0NpmE6eA5K",
        "colab_type": "text"
      },
      "source": [
        "Neste conjunto de dados, tentei implementar os métodos de aprendizado de máquina, esse conjunto de dados me ensinou muitas coisas. Especialmente na parte do pré-processamento, teve que mergulhar nas características dos pandas. Graças ao esquema no site do sci-kit, implementei um novo classificador.\n",
        "Como um resultado,\n",
        "* Pontuação de precisão de Naive Bayes: 0.94375\n",
        "* Pontuação de precisão de ODS: 0.8875"
      ]
    }
  ]
}